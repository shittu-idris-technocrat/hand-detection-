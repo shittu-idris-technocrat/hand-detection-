{
 "cells": [
  {
   "cell_type": "code",
   "execution_count": 8,
   "id": "49316fcc",
   "metadata": {},
   "outputs": [
    {
     "name": "stdout",
     "output_type": "stream",
     "text": [
      "Requirement already satisfied: mediapipe in c:\\users\\technocrat\\anaconda3\\lib\\site-packages (0.10.7)\n",
      "Requirement already satisfied: absl-py in c:\\users\\technocrat\\anaconda3\\lib\\site-packages (from mediapipe) (2.0.0)\n",
      "Requirement already satisfied: attrs>=19.1.0 in c:\\users\\technocrat\\appdata\\roaming\\python\\python310\\site-packages (from mediapipe) (23.1.0)\n",
      "Requirement already satisfied: flatbuffers>=2.0 in c:\\users\\technocrat\\anaconda3\\lib\\site-packages (from mediapipe) (23.5.26)\n",
      "Requirement already satisfied: matplotlib in c:\\users\\technocrat\\anaconda3\\lib\\site-packages (from mediapipe) (3.7.1)\n",
      "Requirement already satisfied: numpy in c:\\users\\technocrat\\anaconda3\\lib\\site-packages (from mediapipe) (1.25.0)\n",
      "Requirement already satisfied: opencv-contrib-python in c:\\users\\technocrat\\anaconda3\\lib\\site-packages (from mediapipe) (4.8.1.78)\n",
      "Requirement already satisfied: protobuf<4,>=3.11 in c:\\users\\technocrat\\anaconda3\\lib\\site-packages (from mediapipe) (3.20.3)\n",
      "Requirement already satisfied: sounddevice>=0.4.4 in c:\\users\\technocrat\\anaconda3\\lib\\site-packages (from mediapipe) (0.4.6)\n",
      "Requirement already satisfied: CFFI>=1.0 in c:\\users\\technocrat\\anaconda3\\lib\\site-packages (from sounddevice>=0.4.4->mediapipe) (1.15.1)\n",
      "Requirement already satisfied: contourpy>=1.0.1 in c:\\users\\technocrat\\appdata\\roaming\\python\\python310\\site-packages (from matplotlib->mediapipe) (1.1.0)\n",
      "Requirement already satisfied: cycler>=0.10 in c:\\users\\technocrat\\anaconda3\\lib\\site-packages (from matplotlib->mediapipe) (0.11.0)\n",
      "Requirement already satisfied: fonttools>=4.22.0 in c:\\users\\technocrat\\appdata\\roaming\\python\\python310\\site-packages (from matplotlib->mediapipe) (4.40.0)\n",
      "Requirement already satisfied: kiwisolver>=1.0.1 in c:\\users\\technocrat\\anaconda3\\lib\\site-packages (from matplotlib->mediapipe) (1.4.4)\n",
      "Requirement already satisfied: packaging>=20.0 in c:\\users\\technocrat\\appdata\\roaming\\python\\python310\\site-packages (from matplotlib->mediapipe) (23.1)\n",
      "Requirement already satisfied: pillow>=6.2.0 in c:\\users\\technocrat\\appdata\\roaming\\python\\python310\\site-packages (from matplotlib->mediapipe) (10.0.0)\n",
      "Requirement already satisfied: pyparsing>=2.3.1 in c:\\users\\technocrat\\appdata\\roaming\\python\\python310\\site-packages (from matplotlib->mediapipe) (3.1.0)\n",
      "Requirement already satisfied: python-dateutil>=2.7 in c:\\users\\technocrat\\anaconda3\\lib\\site-packages (from matplotlib->mediapipe) (2.8.2)\n",
      "Requirement already satisfied: pycparser in c:\\users\\technocrat\\anaconda3\\lib\\site-packages (from CFFI>=1.0->sounddevice>=0.4.4->mediapipe) (2.21)\n",
      "Requirement already satisfied: six>=1.5 in c:\\users\\technocrat\\anaconda3\\lib\\site-packages (from python-dateutil>=2.7->matplotlib->mediapipe) (1.16.0)\n"
     ]
    }
   ],
   "source": [
    "!pip install mediapipe"
   ]
  },
  {
   "cell_type": "code",
   "execution_count": 9,
   "id": "abbfe2be",
   "metadata": {},
   "outputs": [
    {
     "name": "stdout",
     "output_type": "stream",
     "text": [
      "Requirement already satisfied: mediapipe in c:\\users\\technocrat\\anaconda3\\lib\\site-packages (0.10.7)\n",
      "Requirement already satisfied: absl-py in c:\\users\\technocrat\\anaconda3\\lib\\site-packages (from mediapipe) (2.0.0)\n",
      "Requirement already satisfied: attrs>=19.1.0 in c:\\users\\technocrat\\appdata\\roaming\\python\\python310\\site-packages (from mediapipe) (23.1.0)\n",
      "Requirement already satisfied: flatbuffers>=2.0 in c:\\users\\technocrat\\anaconda3\\lib\\site-packages (from mediapipe) (23.5.26)\n",
      "Requirement already satisfied: matplotlib in c:\\users\\technocrat\\anaconda3\\lib\\site-packages (from mediapipe) (3.7.1)\n",
      "Requirement already satisfied: numpy in c:\\users\\technocrat\\anaconda3\\lib\\site-packages (from mediapipe) (1.25.0)\n",
      "Requirement already satisfied: opencv-contrib-python in c:\\users\\technocrat\\anaconda3\\lib\\site-packages (from mediapipe) (4.8.1.78)\n",
      "Requirement already satisfied: protobuf<4,>=3.11 in c:\\users\\technocrat\\anaconda3\\lib\\site-packages (from mediapipe) (3.20.3)\n",
      "Requirement already satisfied: sounddevice>=0.4.4 in c:\\users\\technocrat\\anaconda3\\lib\\site-packages (from mediapipe) (0.4.6)\n",
      "Requirement already satisfied: CFFI>=1.0 in c:\\users\\technocrat\\anaconda3\\lib\\site-packages (from sounddevice>=0.4.4->mediapipe) (1.15.1)\n",
      "Requirement already satisfied: contourpy>=1.0.1 in c:\\users\\technocrat\\appdata\\roaming\\python\\python310\\site-packages (from matplotlib->mediapipe) (1.1.0)\n",
      "Requirement already satisfied: cycler>=0.10 in c:\\users\\technocrat\\anaconda3\\lib\\site-packages (from matplotlib->mediapipe) (0.11.0)\n",
      "Requirement already satisfied: fonttools>=4.22.0 in c:\\users\\technocrat\\appdata\\roaming\\python\\python310\\site-packages (from matplotlib->mediapipe) (4.40.0)\n",
      "Requirement already satisfied: kiwisolver>=1.0.1 in c:\\users\\technocrat\\anaconda3\\lib\\site-packages (from matplotlib->mediapipe) (1.4.4)\n",
      "Requirement already satisfied: packaging>=20.0 in c:\\users\\technocrat\\appdata\\roaming\\python\\python310\\site-packages (from matplotlib->mediapipe) (23.1)\n",
      "Requirement already satisfied: pillow>=6.2.0 in c:\\users\\technocrat\\appdata\\roaming\\python\\python310\\site-packages (from matplotlib->mediapipe) (10.0.0)\n",
      "Requirement already satisfied: pyparsing>=2.3.1 in c:\\users\\technocrat\\appdata\\roaming\\python\\python310\\site-packages (from matplotlib->mediapipe) (3.1.0)\n",
      "Requirement already satisfied: python-dateutil>=2.7 in c:\\users\\technocrat\\anaconda3\\lib\\site-packages (from matplotlib->mediapipe) (2.8.2)\n",
      "Requirement already satisfied: pycparser in c:\\users\\technocrat\\anaconda3\\lib\\site-packages (from CFFI>=1.0->sounddevice>=0.4.4->mediapipe) (2.21)\n",
      "Requirement already satisfied: six>=1.5 in c:\\users\\technocrat\\anaconda3\\lib\\site-packages (from python-dateutil>=2.7->matplotlib->mediapipe) (1.16.0)\n",
      "Note: you may need to restart the kernel to use updated packages.\n"
     ]
    }
   ],
   "source": [
    "pip install mediapipe"
   ]
  },
  {
   "cell_type": "code",
   "execution_count": 10,
   "id": "8674d613",
   "metadata": {},
   "outputs": [],
   "source": [
    "#step 1: import all necessary libraries \n",
    "import cv2\n",
    "import mediapipe as mp\n",
    "    "
   ]
  },
  {
   "cell_type": "code",
   "execution_count": 11,
   "id": "5cfd9cb5",
   "metadata": {},
   "outputs": [],
   "source": [
    "# step 2: Identify your webcam\n",
    "capture = cv2.VideoCapture(0)\n"
   ]
  },
  {
   "cell_type": "code",
   "execution_count": 12,
   "id": "64322d5c",
   "metadata": {},
   "outputs": [],
   "source": [
    "# step 4: Leveraging the Mediapipe library used for hand detection \n",
    "mpHands = mp.solutions.hands\n",
    "hands = mpHands.Hands()\n",
    "mpDraw = mp.solutions.drawing_utils"
   ]
  },
  {
   "cell_type": "code",
   "execution_count": 13,
   "id": "b5d1c1ae",
   "metadata": {},
   "outputs": [],
   "source": [
    "# step 3: switch on webcam\n",
    "while True:\n",
    "    _, img = capture.read()\n",
    "    \n",
    "    #convert image from BG to RGB\n",
    "    imgRGB = cv2.cvtColor(img, cv2.COLOR_BGR2RGB)\n",
    "    \n",
    "    #Apply mediapipe\n",
    "    results = hands.process(imgRGB)\n",
    "   # print(results.multi_hand_landmarks)\n",
    "    if results.multi_hand_landmarks:\n",
    "        for handLms in results.multi_hand_landmarks:\n",
    "            for id, lm in enumerate(handLms.landmark):\n",
    "                #print(id, lm)\n",
    "                mpDraw.draw_landmarks(img, handLms, mpHands.HAND_CONNECTIONS)\n",
    "    \n",
    "    cv2.putText(img, \"Technocrat Hand Detection Program\", (10,50), cv2.FONT_HERSHEY_PLAIN, 2, (0,0,0), 2)\n",
    "    cv2.imshow(\"Technocrat Hand Detection\", img)\n",
    "    if cv2.waitKey(1) & 0xFF == ord('s'):\n",
    "        break\n",
    "        \n",
    "#release the capture once all the processing is done.\n",
    "capture.release()\n",
    "cv2.destroyAllWindows()"
   ]
  },
  {
   "cell_type": "code",
   "execution_count": 14,
   "id": "aeb77d4a",
   "metadata": {},
   "outputs": [],
   "source": [
    "# if not capture.isOpened():1\n",
    "#     print(\"errror: capture not open\")\n",
    "# else:\n",
    "#     _, img = capture.read()"
   ]
  },
  {
   "cell_type": "code",
   "execution_count": null,
   "id": "6a7552b3",
   "metadata": {},
   "outputs": [],
   "source": []
  }
 ],
 "metadata": {
  "kernelspec": {
   "display_name": "Python 3 (ipykernel)",
   "language": "python",
   "name": "python3"
  },
  "language_info": {
   "codemirror_mode": {
    "name": "ipython",
    "version": 3
   },
   "file_extension": ".py",
   "mimetype": "text/x-python",
   "name": "python",
   "nbconvert_exporter": "python",
   "pygments_lexer": "ipython3",
   "version": "3.10.11"
  }
 },
 "nbformat": 4,
 "nbformat_minor": 5
}
